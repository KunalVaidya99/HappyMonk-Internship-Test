{
  "nbformat": 4,
  "nbformat_minor": 0,
  "metadata": {
    "colab": {
      "name": "HappyMonk.ipynb",
      "provenance": [],
      "collapsed_sections": [],
      "authorship_tag": "ABX9TyPLODoHMurK8qDSmXazwcV/",
      "include_colab_link": true
    },
    "kernelspec": {
      "name": "python3",
      "display_name": "Python 3"
    },
    "language_info": {
      "name": "python"
    }
  },
  "cells": [
    {
      "cell_type": "markdown",
      "metadata": {
        "id": "view-in-github",
        "colab_type": "text"
      },
      "source": [
        "<a href=\"https://colab.research.google.com/github/KunalVaidya99/HappyMonk-Internship-Test/blob/main/HappyMonk.ipynb\" target=\"_parent\"><img src=\"https://colab.research.google.com/assets/colab-badge.svg\" alt=\"Open In Colab\"/></a>"
      ]
    },
    {
      "cell_type": "markdown",
      "metadata": {
        "id": "O1hNQKJjv2t7"
      },
      "source": [
        "Author: Kunal Vaidya\n",
        "kunavaidya@gmail.com"
      ]
    },
    {
      "cell_type": "markdown",
      "metadata": {
        "id": "HbfwpSAp1ewG"
      },
      "source": [
        "Importing Necessary Libraries"
      ]
    },
    {
      "cell_type": "code",
      "metadata": {
        "id": "3iP_vd43f1X5"
      },
      "source": [
        "import numpy as np\n",
        "import pandas  as pd\n",
        "import math\n",
        "from sklearn.model_selection import train_test_split\n",
        "from sklearn.preprocessing import OneHotEncoder, StandardScaler\n",
        "import pprint\n",
        "from numpy_ml.neural_nets.losses import CrossEntropy\n",
        "from sklearn.metrics import confusion_matrix, f1_score"
      ],
      "execution_count": 1,
      "outputs": []
    },
    {
      "cell_type": "markdown",
      "metadata": {
        "id": "zkJQfVNw1nY-"
      },
      "source": [
        "Loading the Dataset\n"
      ]
    },
    {
      "cell_type": "code",
      "metadata": {
        "id": "B5ZfNmbuydsb"
      },
      "source": [
        "banknote = pd.read_csv(\"/content/BankNote_Authentication.csv\")\n",
        "banknote.head()\n",
        "x, y = banknote.iloc[:,0:4], banknote.iloc[:,4]\n",
        "\n",
        "encoder = OneHotEncoder(sparse = False)  #One hot Encoding labels\n",
        "scaler = StandardScaler()\n",
        "x = scaler.fit_transform(x)  # Scaling the data\n",
        "y = encoder.fit_transform(np.array(y).reshape(-1,1))\n"
      ],
      "execution_count": 3,
      "outputs": []
    },
    {
      "cell_type": "code",
      "metadata": {
        "id": "rwQPtKeN3gFw"
      },
      "source": [
        "x_train, x_test, y_train, y_test = train_test_split(x, y)  #80-20 spilt of dataset into training and test"
      ],
      "execution_count": 4,
      "outputs": []
    },
    {
      "cell_type": "code",
      "metadata": {
        "id": "w_rSiKU351qd"
      },
      "source": [
        "l = x_train.shape[1]\n",
        "n = 2 #neurons in hidden layer 1\n",
        "p = 2 #neurons in hidden layer 2\n",
        "layer_dims = [l, n, p, 2]   #list containing neurons in each layer\n",
        "\n",
        "def initialize_parameters(layer_dims):\n",
        "\n",
        "  np.random.seed(1)\n",
        "\n",
        "  parameters = dict()\n",
        "\n",
        "  length = len(layer_dims)\n",
        "\n",
        "  for i in range(1, length):\n",
        "    parameters[\"W\" + str(i)] = np.random.randn(layer_dims[i], layer_dims[i-1])*0.01  #sampling parameters form standard normal distribution\n",
        "    parameters[\"b\" + str(i)] = np.random.randn(layer_dims[i],1)\n",
        "\n",
        "  k0 = np.random.randn(1)\n",
        "  k1 = np.random.randn(1)   #sampling parameters form standard normal distribution\n",
        "  k2 = np.random.randn(1)\n",
        "\n",
        "  K = [k0.item(), k1.item(), k2.item()]\n",
        "  parameters[\"K\"] = K\n",
        "\n",
        " \n",
        "  return parameters                "
      ],
      "execution_count": 27,
      "outputs": []
    },
    {
      "cell_type": "markdown",
      "metadata": {
        "id": "aTraejABtx0f"
      },
      "source": [
        "Softmax Activation Function"
      ]
    },
    {
      "cell_type": "code",
      "metadata": {
        "id": "kYwEMw-HOUXD"
      },
      "source": [
        "def softmax(Z):\n",
        "\n",
        "  temp = np.exp(Z)\n",
        "\n",
        "  ax_sum = np.expand_dims(np.sum(temp, axis = 1),axis=-1)\n",
        "  activated_output = temp/ax_sum\n",
        "  return activated_output"
      ],
      "execution_count": 6,
      "outputs": []
    },
    {
      "cell_type": "markdown",
      "metadata": {
        "id": "gtOnGfjTu1TT"
      },
      "source": [
        "Forward Propagation"
      ]
    },
    {
      "cell_type": "code",
      "metadata": {
        "id": "VMAR5kX5_ys9"
      },
      "source": [
        "def forward_propagation(parameters, batch):\n",
        "\n",
        "  A = batch.T\n",
        "\n",
        "  activations = dict()\n",
        "  layer_outputs = dict()\n",
        "\n",
        "  activations[\"A\" + str(0)] = batch\n",
        "\n",
        "  for i in range(1, len(layer_dims)):\n",
        "    #print(i)\n",
        "\n",
        "    \n",
        "    Z = np.dot(parameters[\"W\"+str(i)], A) + parameters[\"b\" + str(i)]   #Forward Prop equation of a neural network \n",
        "    \n",
        "    \n",
        "    if (i < len(layer_dims)-1):\n",
        "      A = parameters[\"K\"][0] + parameters[\"K\"][1]*Z + parameters[\"K\"][2]*(np.multiply(Z,Z))\n",
        "    else:                                                                                    #Last layer activation is softmax\n",
        "      A = softmax(Z)\n",
        "    activations[\"A\" + str(i)] = A                    # Storing activations and Z's of each layer inside a dictionary to access later for backpropagation\n",
        "    layer_outputs[\"Z\"+ str(i)] = Z \n",
        "\n",
        "\n",
        "  return activations, layer_outputs"
      ],
      "execution_count": 37,
      "outputs": []
    },
    {
      "cell_type": "code",
      "metadata": {
        "id": "782UD8_GXUE1"
      },
      "source": [
        "def cross_entropy(predictions, actual):\n",
        "  N = predictions.shape[1]\n",
        "  \n",
        "  loss = -np.sum(np.log(predictions)*actual.T)/N\n",
        "  return loss"
      ],
      "execution_count": 8,
      "outputs": []
    },
    {
      "cell_type": "code",
      "metadata": {
        "id": "qfhwymmVLhGX"
      },
      "source": [
        "def compute_cost(predictions, actual):\n",
        "  \n",
        "  loss = cross_entropy(predictions, actual)\n",
        "  return loss"
      ],
      "execution_count": 9,
      "outputs": []
    },
    {
      "cell_type": "markdown",
      "metadata": {
        "id": "zZOhardFuyWj"
      },
      "source": [
        "Back Propagation"
      ]
    },
    {
      "cell_type": "code",
      "metadata": {
        "id": "1e8RN4uLX-mM"
      },
      "source": [
        "def backward_propagation(parameters, activations, layer_outputs, batch_size, Y):\n",
        "\n",
        "  gradients = dict()   # Dictionary for storing gradients of each layer and parameter\n",
        "  gradients[\"dK\"] = 0\n",
        "  \n",
        "\n",
        "  for i in reversed(range(1, len(layer_dims))):\n",
        "    \n",
        "\n",
        "   #################### Backpropgation Equations################################### \n",
        "    if (i==len(layer_dims)-1):\n",
        "      \n",
        "      gradients[\"dZ\" + str(i)] =  activations[\"A\" + str(i)] - Y.T\n",
        "      \n",
        "      \n",
        "      gradients[\"dW\" + str(i)] = np.dot(gradients[\"dZ\" + str(i)], activations[\"A\" + str(i-1)].T)/batch_size\n",
        "    \n",
        "      gradients[\"db\" + str(i)] = np.mean(gradients[\"dZ\" + str(i)], axis=1, keepdims=True)\n",
        "   \n",
        "    activations[\"A0\"] = activations[\"A0\"].T  \n",
        "    if (0 <i < len(layer_dims)-1 ):\n",
        "      \n",
        "    \n",
        "      gradients[\"dA\" + str(i)] = np.dot( parameters[\"W\" + str(i+1)].T, gradients[\"dZ\" + str(i+1)])\n",
        "\n",
        "      gradients[\"dZ\" + str(i)] = (parameters[\"K\"][1] + 2*parameters[\"K\"][2]*layer_outputs[\"Z\" + str(i)])* activations[\"A\" + str(i)]\n",
        "  \n",
        "      \n",
        "      gradients[\"dW\" + str(i)] = np.dot(gradients[\"dZ\" + str(i)], activations[\"A\" + str(i-1)].T)/batch_size\n",
        "\n",
        "      gradients[\"db\" + str(i)] = np.mean(gradients[\"dZ\" + str(i)], axis=1, keepdims=True)\n",
        "\n",
        "      gradients[\"dK\" + str(i)] = np.array([np.mean(gradients[\"dA\" +  str(i)]), \n",
        "                                           np.mean(np.multiply(gradients[\"dA\" +  str(i)],layer_outputs[\"Z\"+str(i)])), \n",
        "                                           np.mean(np.multiply(gradients[\"dA\" + str(i)], layer_outputs[\"Z\"+str(i)]*layer_outputs[\"Z\"+str(i)]))])\n",
        "      \n",
        "  for j in range(1, len(layer_dims)-1):\n",
        "    \n",
        "    gradients[\"dK\"] = gradients[\"dK\"] + gradients[\"dK\" + str(j)]     \n",
        "\n",
        "  return gradients\n"
      ],
      "execution_count": 10,
      "outputs": []
    },
    {
      "cell_type": "markdown",
      "metadata": {
        "id": "VRNlHKCLu5gt"
      },
      "source": [
        "Parameter Update"
      ]
    },
    {
      "cell_type": "code",
      "metadata": {
        "id": "c_32p6blb1XL"
      },
      "source": [
        "def update_parameters(parameters, gradients, learning_rate):\n",
        "\n",
        "  for i in range(1, len(layer_dims)):\n",
        "    parameters[\"W\" + str(i)] = parameters[\"W\" + str(i)] - learning_rate * gradients[\"dW\" + str(i)]    # Update parameters using gradients, W = W - alpha*dW  \n",
        "    parameters[\"b\" + str(i)] = parameters[\"b\" + str(i)] - learning_rate * gradients[\"db\" + str(i)] \n",
        "\n",
        "  parameters[\"K\"] = parameters[\"K\"] - 10*learning_rate * gradients[\"dK\"]\n",
        "\n",
        "  return parameters "
      ],
      "execution_count": 11,
      "outputs": []
    },
    {
      "cell_type": "markdown",
      "metadata": {
        "id": "szLUKCFbu8Vr"
      },
      "source": [
        "Function to generate random mini batches"
      ]
    },
    {
      "cell_type": "code",
      "metadata": {
        "id": "f0TK6sbXy8fX"
      },
      "source": [
        "def random_mini_batches(X, Y, mini_batch_size = 64, seed = 9):\n",
        "    \n",
        "    \n",
        "    m = X.shape[0]                  # number of training examples\n",
        "    mini_batches = []\n",
        "    \n",
        "    \n",
        "   \n",
        "    permutation = list(np.random.permutation(m))\n",
        "\n",
        "    shuffled_X = X[permutation,:]\n",
        "    shuffled_Y = Y[permutation]\n",
        "\n",
        "   \n",
        "    num_complete_minibatches = math.floor(m/mini_batch_size) # number of mini batches of size mini_batch_size in your partitionning\n",
        "    for k in range(0, num_complete_minibatches):\n",
        "        mini_batch_X = shuffled_X[k * mini_batch_size : k * mini_batch_size + mini_batch_size,:]\n",
        "        mini_batch_Y = shuffled_Y[k * mini_batch_size : k * mini_batch_size + mini_batch_size]\n",
        "        mini_batch = (mini_batch_X, mini_batch_Y)\n",
        "        mini_batches.append(mini_batch)\n",
        "    \n",
        "    # (last mini-batch < mini_batch_size)\n",
        "    if m % mini_batch_size != 0:\n",
        "        mini_batch_X = shuffled_X[num_complete_minibatches * mini_batch_size : m,:]\n",
        "        mini_batch_Y = shuffled_Y[num_complete_minibatches * mini_batch_size : m]\n",
        "        mini_batch = (mini_batch_X, mini_batch_Y)\n",
        "        mini_batches.append(mini_batch)\n",
        "    \n",
        "    return mini_batches"
      ],
      "execution_count": 12,
      "outputs": []
    },
    {
      "cell_type": "markdown",
      "metadata": {
        "id": "E8B6enTuvFxK"
      },
      "source": [
        "Function to calculate accuracy and loss at end of epoch"
      ]
    },
    {
      "cell_type": "code",
      "metadata": {
        "id": "jH5eElKnk0wI"
      },
      "source": [
        "def predict(x, y, parameters):\n",
        "    \n",
        "    \n",
        "    activations, layer_outputs = forward_propagation(parameters, x)\n",
        "     \n",
        "    # convert probas to 0/1 predictions \n",
        "    for i in range(0, x.shape[0]):\n",
        "        label = np.argmax(activations[\"A\" + str(len(layer_dims)-1)], axis=0)    # convert softmax output to single label\n",
        "        true_label = np.argmax(y, axis=1)\n",
        "    \n",
        "    test_cost = compute_cost(activations[\"A\" + str(len(layer_dims)-1)], y)\n",
        "\n",
        "    accuracy = np.sum((label == true_label)/x.shape[0])   #computing accuracy\n",
        "   # print(\"Accuracy: \"  + str(np.sum((label == true_label)/x_train.shape[0])))\n",
        "    return accuracy, test_cost"
      ],
      "execution_count": 34,
      "outputs": []
    },
    {
      "cell_type": "code",
      "metadata": {
        "id": "KyiulD6W2Qss"
      },
      "source": [
        "costs = []\n",
        "store_params = []\n",
        "test_costs = []\n",
        "test_accuracies = []\n",
        "train_accuracies = []\n",
        "def train(epochs, batch_size, learning_rate):\n",
        "\n",
        "  parameters = initialize_parameters(layer_dims)     #initialize parameters \n",
        "  pp = pprint.PrettyPrinter()\n",
        "  pp.pprint(parameters)\n",
        "  \n",
        "  for epoch in range(epochs):\n",
        "    print(\"EPoch is\", epoch)\n",
        "    cost_epoch = 0   \n",
        "    mini_batches = random_mini_batches(np.array(x_train), np.array(y_train))    #generate mini batches at start of each epoch\n",
        "\n",
        "    for mini_batch in mini_batches:\n",
        "    \n",
        "      activations, layer_outputs = forward_propagation(parameters, mini_batch[0])     #forward propagation\n",
        "\n",
        "      cost = compute_cost(activations[\"A\" + str(len(layer_dims)-1)], mini_batch[1])\n",
        "      #cost = CrossEntropy.loss(mini_batch[1].T, activations[\"A3\"])\n",
        "      gradients = backward_propagation(parameters, activations, layer_outputs, batch_size, mini_batch[1])  #calculating gradients for each parameter\n",
        "      \n",
        "      parameters = update_parameters(parameters, gradients, learning_rate)   #updating parameters using gradients\n",
        "      #print(parameters)\n",
        "      \n",
        "      cost_epoch = cost_epoch + cost/batch_size\n",
        "    \n",
        "    \n",
        "\n",
        "    train_accuracy, train_cost = predict(x_train, y_train, parameters)\n",
        "    test_accuracy, test_cost = predict(x_test, y_test, parameters)\n",
        "    test_costs.append(test_cost)\n",
        "    costs.append(train_cost)\n",
        "    test_accuracies.append(test_accuracy)\n",
        "    train_accuracies.append(train_accuracy)\n",
        "    #print(gradients)\n",
        "    print(\"Train Cost:\", train_cost)\n",
        "    print(\"Test Cost:\", test_cost)\n",
        "    print(\"Train Accuracy:\", 100*train_accuracy) \n",
        "    print(\"Test Accuracy:\", 100*test_accuracy) \n",
        "\n",
        "  return parameters"
      ],
      "execution_count": 35,
      "outputs": []
    },
    {
      "cell_type": "code",
      "metadata": {
        "colab": {
          "base_uri": "https://localhost:8080/"
        },
        "id": "usdxsQzH33TO",
        "outputId": "ac416e9f-7724-4231-cec7-7783f067c61d"
      },
      "source": [
        "params = train(70, 64, 0.00001)   # training loop"
      ],
      "execution_count": 36,
      "outputs": [
        {
          "output_type": "stream",
          "text": [
            "{'K': [0.9015907205927955, 0.5024943389018682, 0.9008559492644118],\n",
            " 'W1': array([[ 0.01624345, -0.00611756, -0.00528172, -0.01072969],\n",
            "       [ 0.00865408, -0.02301539,  0.01744812, -0.00761207]]),\n",
            " 'W2': array([[ 0.01462108, -0.02060141],\n",
            "       [-0.00322417, -0.00384054]]),\n",
            " 'W3': array([[-0.00172428, -0.00877858],\n",
            "       [ 0.00042214,  0.00582815]]),\n",
            " 'b1': array([[ 0.3190391 ],\n",
            "       [-0.24937038]]),\n",
            " 'b2': array([[ 1.13376944],\n",
            "       [-1.09989127]]),\n",
            " 'b3': array([[-1.10061918],\n",
            "       [ 1.14472371]])}\n",
            "EPoch is 0\n",
            "Train Cost: 6.936343415621814\n",
            "Test Cost: 5.837731181003425\n",
            "Train Accuracy: 20.99125364431487\n",
            "Test Accuracy: 18.950437317784257\n",
            "EPoch is 1\n",
            "Train Cost: 6.936343331557881\n",
            "Test Cost: 5.837731089555204\n",
            "Train Accuracy: 20.89407191448008\n",
            "Test Accuracy: 18.950437317784257\n",
            "EPoch is 2\n",
            "Train Cost: 6.93634324993225\n",
            "Test Cost: 5.837731000759531\n",
            "Train Accuracy: 20.796890184645285\n",
            "Test Accuracy: 18.950437317784257\n",
            "EPoch is 3\n",
            "Train Cost: 6.936343170706242\n",
            "Test Cost: 5.837730914574289\n",
            "Train Accuracy: 20.89407191448008\n",
            "Test Accuracy: 18.950437317784257\n",
            "EPoch is 4\n",
            "Train Cost: 6.936343093823392\n",
            "Test Cost: 5.837730830938378\n",
            "Train Accuracy: 21.477162293488824\n",
            "Test Accuracy: 19.533527696793\n",
            "EPoch is 5\n",
            "Train Cost: 6.93634301924595\n",
            "Test Cost: 5.837730749810626\n",
            "Train Accuracy: 21.963070942662778\n",
            "Test Accuracy: 20.408163265306122\n",
            "EPoch is 6\n",
            "Train Cost: 6.93634294692652\n",
            "Test Cost: 5.837730671139655\n",
            "Train Accuracy: 23.12925170068027\n",
            "Test Accuracy: 22.44897959183674\n",
            "EPoch is 7\n",
            "Train Cost: 6.936342876819743\n",
            "Test Cost: 5.837730594876339\n",
            "Train Accuracy: 25.65597667638484\n",
            "Test Accuracy: 24.489795918367346\n",
            "EPoch is 8\n",
            "Train Cost: 6.936342808885187\n",
            "Test Cost: 5.837730520976719\n",
            "Train Accuracy: 34.40233236151604\n",
            "Test Accuracy: 32.6530612244898\n",
            "EPoch is 9\n",
            "Train Cost: 6.936342743081082\n",
            "Test Cost: 5.837730449395479\n",
            "Train Accuracy: 46.84159378036929\n",
            "Test Accuracy: 52.186588921282805\n",
            "EPoch is 10\n",
            "Train Cost: 6.9363426793671215\n",
            "Test Cost: 5.837730380088867\n",
            "Train Accuracy: 65.59766763848395\n",
            "Test Accuracy: 70.26239067055393\n",
            "EPoch is 11\n",
            "Train Cost: 6.936342617703888\n",
            "Test Cost: 5.83773031301411\n",
            "Train Accuracy: 70.45675413022352\n",
            "Test Accuracy: 74.63556851311954\n",
            "EPoch is 12\n",
            "Train Cost: 6.936342558053049\n",
            "Test Cost: 5.837730248129524\n",
            "Train Accuracy: 73.27502429543246\n",
            "Test Accuracy: 74.9271137026239\n",
            "EPoch is 13\n",
            "Train Cost: 6.93634250037669\n",
            "Test Cost: 5.837730185394049\n",
            "Train Accuracy: 74.44120505344995\n",
            "Test Accuracy: 76.0932944606414\n",
            "EPoch is 14\n",
            "Train Cost: 6.936342444637766\n",
            "Test Cost: 5.837730124767422\n",
            "Train Accuracy: 74.44120505344995\n",
            "Test Accuracy: 77.25947521865889\n",
            "EPoch is 15\n",
            "Train Cost: 6.936342390800326\n",
            "Test Cost: 5.837730066210627\n",
            "Train Accuracy: 74.73275024295432\n",
            "Test Accuracy: 78.4256559766764\n",
            "EPoch is 16\n",
            "Train Cost: 6.936342338829055\n",
            "Test Cost: 5.837730009685378\n",
            "Train Accuracy: 74.63556851311954\n",
            "Test Accuracy: 79.00874635568513\n",
            "EPoch is 17\n",
            "Train Cost: 6.936342288689272\n",
            "Test Cost: 5.8377299551539785\n",
            "Train Accuracy: 74.9271137026239\n",
            "Test Accuracy: 79.30029154518951\n",
            "EPoch is 18\n",
            "Train Cost: 6.936342240345997\n",
            "Test Cost: 5.837729902578428\n",
            "Train Accuracy: 75.12147716229349\n",
            "Test Accuracy: 79.59183673469387\n",
            "EPoch is 19\n",
            "Train Cost: 6.936342193769661\n",
            "Test Cost: 5.837729851926741\n",
            "Train Accuracy: 75.60738581146744\n",
            "Test Accuracy: 79.88338192419825\n",
            "EPoch is 20\n",
            "Train Cost: 6.936342148924501\n",
            "Test Cost: 5.837729803160025\n",
            "Train Accuracy: 76.38483965014578\n",
            "Test Accuracy: 80.466472303207\n",
            "EPoch is 21\n",
            "Train Cost: 6.936342105780842\n",
            "Test Cost: 5.837729756246147\n",
            "Train Accuracy: 76.57920310981534\n",
            "Test Accuracy: 80.75801749271136\n",
            "EPoch is 22\n",
            "Train Cost: 6.9363420643069835\n",
            "Test Cost: 5.83772971115056\n",
            "Train Accuracy: 76.87074829931973\n",
            "Test Accuracy: 80.75801749271136\n",
            "EPoch is 23\n",
            "Train Cost: 6.936342024474273\n",
            "Test Cost: 5.837729667842352\n",
            "Train Accuracy: 77.25947521865889\n",
            "Test Accuracy: 80.75801749271136\n",
            "EPoch is 24\n",
            "Train Cost: 6.9363419862511515\n",
            "Test Cost: 5.837729626287068\n",
            "Train Accuracy: 77.35665694849368\n",
            "Test Accuracy: 80.466472303207\n",
            "EPoch is 25\n",
            "Train Cost: 6.936341949611641\n",
            "Test Cost: 5.837729586456759\n",
            "Train Accuracy: 77.45383867832847\n",
            "Test Accuracy: 80.466472303207\n",
            "EPoch is 26\n",
            "Train Cost: 6.936341914524045\n",
            "Test Cost: 5.83772954831681\n",
            "Train Accuracy: 77.64820213799806\n",
            "Test Accuracy: 80.75801749271136\n",
            "EPoch is 27\n",
            "Train Cost: 6.936341880960335\n",
            "Test Cost: 5.837729511836863\n",
            "Train Accuracy: 77.64820213799806\n",
            "Test Accuracy: 81.04956268221575\n",
            "EPoch is 28\n",
            "Train Cost: 6.936341848896929\n",
            "Test Cost: 5.837729476991376\n",
            "Train Accuracy: 77.55102040816327\n",
            "Test Accuracy: 81.04956268221575\n",
            "EPoch is 29\n",
            "Train Cost: 6.936341818303196\n",
            "Test Cost: 5.837729443747043\n",
            "Train Accuracy: 77.55102040816327\n",
            "Test Accuracy: 81.04956268221575\n",
            "EPoch is 30\n",
            "Train Cost: 6.9363417891521335\n",
            "Test Cost: 5.837729412074462\n",
            "Train Accuracy: 77.45383867832847\n",
            "Test Accuracy: 81.04956268221575\n",
            "EPoch is 31\n",
            "Train Cost: 6.936341761421195\n",
            "Test Cost: 5.837729381949247\n",
            "Train Accuracy: 77.55102040816327\n",
            "Test Accuracy: 81.04956268221575\n",
            "EPoch is 32\n",
            "Train Cost: 6.936341735085702\n",
            "Test Cost: 5.837729353344579\n",
            "Train Accuracy: 77.64820213799806\n",
            "Test Accuracy: 81.04956268221575\n",
            "EPoch is 33\n",
            "Train Cost: 6.9363417101242355\n",
            "Test Cost: 5.837729326237382\n",
            "Train Accuracy: 77.64820213799806\n",
            "Test Accuracy: 81.04956268221575\n",
            "EPoch is 34\n",
            "Train Cost: 6.936341686503261\n",
            "Test Cost: 5.837729300591008\n",
            "Train Accuracy: 77.64820213799806\n",
            "Test Accuracy: 81.04956268221575\n",
            "EPoch is 35\n",
            "Train Cost: 6.936341664205319\n",
            "Test Cost: 5.837729276386637\n",
            "Train Accuracy: 77.64820213799806\n",
            "Test Accuracy: 81.04956268221575\n",
            "EPoch is 36\n",
            "Train Cost: 6.936341643211091\n",
            "Test Cost: 5.837729253603387\n",
            "Train Accuracy: 77.64820213799806\n",
            "Test Accuracy: 81.04956268221575\n",
            "EPoch is 37\n",
            "Train Cost: 6.93634162349231\n",
            "Test Cost: 5.837729232210371\n",
            "Train Accuracy: 77.64820213799806\n",
            "Test Accuracy: 81.04956268221575\n",
            "EPoch is 38\n",
            "Train Cost: 6.936341605025593\n",
            "Test Cost: 5.83772921218235\n",
            "Train Accuracy: 77.64820213799806\n",
            "Test Accuracy: 81.04956268221575\n",
            "EPoch is 39\n",
            "Train Cost: 6.936341587788216\n",
            "Test Cost: 5.8377291934945115\n",
            "Train Accuracy: 77.64820213799806\n",
            "Test Accuracy: 81.04956268221575\n",
            "EPoch is 40\n",
            "Train Cost: 6.93634157176257\n",
            "Test Cost: 5.837729176127884\n",
            "Train Accuracy: 77.74538386783284\n",
            "Test Accuracy: 81.04956268221575\n",
            "EPoch is 41\n",
            "Train Cost: 6.9363415569277596\n",
            "Test Cost: 5.83772916005969\n",
            "Train Accuracy: 77.74538386783284\n",
            "Test Accuracy: 81.04956268221575\n",
            "EPoch is 42\n",
            "Train Cost: 6.936341543261935\n",
            "Test Cost: 5.837729145266239\n",
            "Train Accuracy: 77.74538386783284\n",
            "Test Accuracy: 81.04956268221575\n",
            "EPoch is 43\n",
            "Train Cost: 6.936341530743543\n",
            "Test Cost: 5.83772913172411\n",
            "Train Accuracy: 77.74538386783284\n",
            "Test Accuracy: 81.04956268221575\n",
            "EPoch is 44\n",
            "Train Cost: 6.9363415193534665\n",
            "Test Cost: 5.837729119412615\n",
            "Train Accuracy: 77.64820213799806\n",
            "Test Accuracy: 81.04956268221575\n",
            "EPoch is 45\n",
            "Train Cost: 6.9363415090778195\n",
            "Test Cost: 5.837729108316683\n",
            "Train Accuracy: 77.64820213799806\n",
            "Test Accuracy: 81.04956268221575\n",
            "EPoch is 46\n",
            "Train Cost: 6.936341499884402\n",
            "Test Cost: 5.837729098401099\n",
            "Train Accuracy: 77.55102040816327\n",
            "Test Accuracy: 81.04956268221575\n",
            "EPoch is 47\n",
            "Train Cost: 6.936341491761468\n",
            "Test Cost: 5.837729089653392\n",
            "Train Accuracy: 77.55102040816327\n",
            "Test Accuracy: 81.04956268221575\n",
            "EPoch is 48\n",
            "Train Cost: 6.936341484700695\n",
            "Test Cost: 5.837729082064629\n",
            "Train Accuracy: 77.55102040816327\n",
            "Test Accuracy: 81.04956268221575\n",
            "EPoch is 49\n",
            "Train Cost: 6.936341478667913\n",
            "Test Cost: 5.837729075597427\n",
            "Train Accuracy: 77.55102040816327\n",
            "Test Accuracy: 81.04956268221575\n",
            "EPoch is 50\n",
            "Train Cost: 6.93634147364964\n",
            "Test Cost: 5.837729070237162\n",
            "Train Accuracy: 77.55102040816327\n",
            "Test Accuracy: 81.04956268221575\n",
            "EPoch is 51\n",
            "Train Cost: 6.93634146963789\n",
            "Test Cost: 5.837729065975358\n",
            "Train Accuracy: 77.55102040816327\n",
            "Test Accuracy: 81.04956268221575\n",
            "EPoch is 52\n",
            "Train Cost: 6.9363414666073275\n",
            "Test Cost: 5.837729062784443\n",
            "Train Accuracy: 77.55102040816327\n",
            "Test Accuracy: 81.04956268221575\n",
            "EPoch is 53\n",
            "Train Cost: 6.936341464536496\n",
            "Test Cost: 5.8377290606409575\n",
            "Train Accuracy: 77.55102040816327\n",
            "Test Accuracy: 81.04956268221575\n",
            "EPoch is 54\n",
            "Train Cost: 6.936341463416558\n",
            "Test Cost: 5.837729059535378\n",
            "Train Accuracy: 77.55102040816327\n",
            "Test Accuracy: 81.34110787172011\n",
            "EPoch is 55\n",
            "Train Cost: 6.936341463232713\n",
            "Test Cost: 5.837729059451833\n",
            "Train Accuracy: 77.55102040816327\n",
            "Test Accuracy: 81.34110787172011\n",
            "EPoch is 56\n",
            "Train Cost: 6.9363414639575645\n",
            "Test Cost: 5.83772906036023\n",
            "Train Accuracy: 77.45383867832847\n",
            "Test Accuracy: 81.34110787172011\n",
            "EPoch is 57\n",
            "Train Cost: 6.93634146558964\n",
            "Test Cost: 5.837729062259226\n",
            "Train Accuracy: 77.45383867832847\n",
            "Test Accuracy: 81.34110787172011\n",
            "EPoch is 58\n",
            "Train Cost: 6.936341468106378\n",
            "Test Cost: 5.837729065124292\n",
            "Train Accuracy: 77.55102040816327\n",
            "Test Accuracy: 81.34110787172011\n",
            "EPoch is 59\n",
            "Train Cost: 6.936341471495125\n",
            "Test Cost: 5.837729068941673\n",
            "Train Accuracy: 77.55102040816327\n",
            "Test Accuracy: 81.34110787172011\n",
            "EPoch is 60\n",
            "Train Cost: 6.936341475734375\n",
            "Test Cost: 5.837729073687825\n",
            "Train Accuracy: 77.55102040816327\n",
            "Test Accuracy: 81.34110787172011\n",
            "EPoch is 61\n",
            "Train Cost: 6.936341480820647\n",
            "Test Cost: 5.837729079359311\n",
            "Train Accuracy: 77.64820213799806\n",
            "Test Accuracy: 81.34110787172011\n",
            "EPoch is 62\n",
            "Train Cost: 6.936341486722794\n",
            "Test Cost: 5.837729085921877\n",
            "Train Accuracy: 77.64820213799806\n",
            "Test Accuracy: 81.34110787172011\n",
            "EPoch is 63\n",
            "Train Cost: 6.936341493442967\n",
            "Test Cost: 5.837729093378234\n",
            "Train Accuracy: 77.64820213799806\n",
            "Test Accuracy: 81.34110787172013\n",
            "EPoch is 64\n",
            "Train Cost: 6.936341500963071\n",
            "Test Cost: 5.837729101708615\n",
            "Train Accuracy: 77.64820213799806\n",
            "Test Accuracy: 81.34110787172013\n",
            "EPoch is 65\n",
            "Train Cost: 6.936341509267017\n",
            "Test Cost: 5.837729110895522\n",
            "Train Accuracy: 77.64820213799806\n",
            "Test Accuracy: 81.34110787172013\n",
            "EPoch is 66\n",
            "Train Cost: 6.936341518337703\n",
            "Test Cost: 5.8377291209202795\n",
            "Train Accuracy: 77.64820213799806\n",
            "Test Accuracy: 81.34110787172013\n",
            "EPoch is 67\n",
            "Train Cost: 6.936341528162288\n",
            "Test Cost: 5.837729131768972\n",
            "Train Accuracy: 77.64820213799806\n",
            "Test Accuracy: 81.34110787172013\n",
            "EPoch is 68\n",
            "Train Cost: 6.936341538734686\n",
            "Test Cost: 5.837729143435126\n",
            "Train Accuracy: 77.64820213799806\n",
            "Test Accuracy: 81.34110787172013\n",
            "EPoch is 69\n",
            "Train Cost: 6.936341550041435\n",
            "Test Cost: 5.837729155904088\n",
            "Train Accuracy: 77.64820213799806\n",
            "Test Accuracy: 81.04956268221575\n"
          ],
          "name": "stdout"
        }
      ]
    },
    {
      "cell_type": "code",
      "metadata": {
        "colab": {
          "base_uri": "https://localhost:8080/",
          "height": 312
        },
        "id": "NJwQ3S9RyNNg",
        "outputId": "115a3216-308b-4689-9c90-8ca2b1a88fab"
      },
      "source": [
        "import matplotlib.pyplot as plt\n",
        "plt.plot(np.arange(len(costs)), test_accuracies, label=\"Test\")\n",
        "plt.plot(np.arange(len(costs)), train_accuracies, label=\"Train\")\n",
        "plt.title(\"Accuracy Plot\")\n",
        "plt.legend(loc=\"upper left\")\n",
        "plt.xlabel('Epochs')\n",
        "plt.ylabel('Accuracy')"
      ],
      "execution_count": 30,
      "outputs": [
        {
          "output_type": "execute_result",
          "data": {
            "text/plain": [
              "Text(0, 0.5, 'Accuracy')"
            ]
          },
          "metadata": {
            "tags": []
          },
          "execution_count": 30
        },
        {
          "output_type": "display_data",
          "data": {
            "image/png": "[encoded data removed]",
            "text/plain": [
              "<Figure size 432x288 with 1 Axes>"
            ]
          },
          "metadata": {
            "tags": [],
            "needs_background": "light"
          }
        }
      ]
    },
    {
      "cell_type": "code",
      "metadata": {
        "colab": {
          "base_uri": "https://localhost:8080/",
          "height": 312
        },
        "id": "iFKENRuckDgT",
        "outputId": "6de94d0f-3ac2-4324-fbfe-907b80234fc4"
      },
      "source": [
        "plt.plot(np.arange(len(costs)), costs)\n",
        "plt.title(\"Loss for Train set\")\n",
        "plt.xlabel('Epochs')\n",
        "plt.ylabel('Loss')"
      ],
      "execution_count": 31,
      "outputs": [
        {
          "output_type": "execute_result",
          "data": {
            "text/plain": [
              "Text(0, 0.5, 'Loss')"
            ]
          },
          "metadata": {
            "tags": []
          },
          "execution_count": 31
        },
        {
          "output_type": "display_data",
          "data": {
            "image/png": "[encoded data removed]",
            "text/plain": [
              "<Figure size 432x288 with 1 Axes>"
            ]
          },
          "metadata": {
            "tags": [],
            "needs_background": "light"
          }
        }
      ]
    },
    {
      "cell_type": "markdown",
      "metadata": {
        "id": "WTCQcoAWvn9H"
      },
      "source": [
        "Compute confusion matrix and F1-score\n"
      ]
    },
    {
      "cell_type": "code",
      "metadata": {
        "id": "Rm2R4JQSg75x"
      },
      "source": [
        "def plot_matrix(x, y):\n",
        "  a, _ = forward_propagation(params, x)\n",
        "  predicted_labels = np.argmax(a[\"A\" + str(len(layer_dims)-1)], axis=0)\n",
        "  true_labels = np.argmax(y, axis=1)\n",
        "  f1 = f1_score(true_labels, predicted_labels)\n",
        "  print(\"The f1 score is:\", f1)\n",
        "\n",
        "  cf_matrix = confusion_matrix(true_labels, predicted_labels)\n",
        "  import seaborn as sns\n",
        "  sns.heatmap(cf_matrix, annot=True, fmt ='d')\n",
        "\n"
      ],
      "execution_count": 33,
      "outputs": []
    },
    {
      "cell_type": "code",
      "metadata": {
        "colab": {
          "base_uri": "https://localhost:8080/",
          "height": 282
        },
        "id": "NnuWm_G0iKLV",
        "outputId": "fc8a7604-00c6-4881-dce2-92de7dbb82c0"
      },
      "source": [
        "plot_matrix(x_train, y_train)"
      ],
      "execution_count": 21,
      "outputs": [
        {
          "output_type": "stream",
          "text": [
            "The f1 score is: 0.7653061224489796\n"
          ],
          "name": "stdout"
        },
        {
          "output_type": "display_data",
          "data": {
            "image/png": "[encoded data removed]",
            "text/plain": [
              "<Figure size 432x288 with 2 Axes>"
            ]
          },
          "metadata": {
            "tags": [],
            "needs_background": "light"
          }
        }
      ]
    },
    {
      "cell_type": "code",
      "metadata": {
        "id": "Ac1lVQdLk5-L"
      },
      "source": [
        ""
      ],
      "execution_count": null,
      "outputs": []
    }
  ]
}
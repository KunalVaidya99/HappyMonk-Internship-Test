{
  "nbformat": 4,
  "nbformat_minor": 0,
  "metadata": {
    "colab": {
      "name": "HappyMonk.ipynb",
      "provenance": [],
      "collapsed_sections": [],
      "authorship_tag": "ABX9TyPKVneWvzoCFL37hrISvLAe",
      "include_colab_link": true
    },
    "kernelspec": {
      "name": "python3",
      "display_name": "Python 3"
    },
    "language_info": {
      "name": "python"
    }
  },
  "cells": [
    {
      "cell_type": "markdown",
      "metadata": {
        "id": "view-in-github",
        "colab_type": "text"
      },
      "source": [
        "<a href=\"https://colab.research.google.com/github/KunalVaidya99/HappyMonk-Internship-Test/blob/main/HappyMonk.ipynb\" target=\"_parent\"><img src=\"https://colab.research.google.com/assets/colab-badge.svg\" alt=\"Open In Colab\"/></a>"
      ]
    },
    {
      "cell_type": "code",
      "metadata": {
        "id": "3iP_vd43f1X5"
      },
      "source": [
        "import numpy as np\n",
        "import pandas as pd\n",
        "from sklearn.model_selection import train_test_split"
      ],
      "execution_count": 10,
      "outputs": []
    },
    {
      "cell_type": "code",
      "metadata": {
        "colab": {
          "base_uri": "https://localhost:8080/"
        },
        "id": "B5ZfNmbuydsb",
        "outputId": "116fcd06-16c3-4210-cbfa-3fb21eba057d"
      },
      "source": [
        "banknote = pd.read_csv(\"/content/BankNote_Authentication.csv\")\n",
        "banknote.head()\n",
        "x, y = banknote.iloc[:,0:4], banknote.iloc[:,4]\n",
        "print(y.unique())"
      ],
      "execution_count": 35,
      "outputs": [
        {
          "output_type": "stream",
          "text": [
            "[0 1]\n"
          ],
          "name": "stdout"
        }
      ]
    },
    {
      "cell_type": "code",
      "metadata": {
        "id": "rwQPtKeN3gFw"
      },
      "source": [
        "x_train, x_test, y_train, y_test = train_test_split(x, y)"
      ],
      "execution_count": 36,
      "outputs": []
    },
    {
      "cell_type": "code",
      "metadata": {
        "id": "w_rSiKU351qd"
      },
      "source": [
        "l = x_train.shape[1]\n",
        "n = 2\n",
        "p = 2\n",
        "layer_dims = [l, n, p, 2]\n",
        "\n",
        "def initialize_parameters(layer_dims):\n",
        "\n",
        "  np.random.seed(1)\n",
        "\n",
        "  parameters = dict()\n",
        "\n",
        "  length = len(layer_dims)\n",
        "\n",
        "  for i in range(1, length):\n",
        "    parameters[\"W\" + str(i)] = np.random.randn(layer_dims[i], layer_dims[i-1])\n",
        "    parameters[\"b\" + str(i)] = np.random.randn(layer_dims[i])\n",
        "\n",
        "  k0 = np.random.randn(1)\n",
        "  k1 = np.random.randn(1)\n",
        "  k2 = np.random.randn(1)\n",
        "\n",
        "  K = [k0, k1, k2]\n",
        "  parameters[\"K\"] = K\n",
        "\n",
        " \n",
        "  return parameters                "
      ],
      "execution_count": 98,
      "outputs": []
    },
    {
      "cell_type": "code",
      "metadata": {
        "colab": {
          "base_uri": "https://localhost:8080/"
        },
        "id": "WlU-7GMC9wFq",
        "outputId": "3ef28b55-bdb0-4f9b-a85f-939eb89daa6e"
      },
      "source": [
        "parameters = initialize_parameters(layer_dims)\n",
        "parameters"
      ],
      "execution_count": 147,
      "outputs": [
        {
          "output_type": "execute_result",
          "data": {
            "text/plain": [
              "{'K': [array([0.90159072]), array([0.50249434]), array([0.90085595])],\n",
              " 'W1': array([[ 1.62434536, -0.61175641, -0.52817175, -1.07296862],\n",
              "        [ 0.86540763, -2.3015387 ,  1.74481176, -0.7612069 ]]),\n",
              " 'W2': array([[ 1.46210794, -2.06014071],\n",
              "        [-0.3224172 , -0.38405435]]),\n",
              " 'W3': array([[-0.17242821, -0.87785842],\n",
              "        [ 0.04221375,  0.58281521]]),\n",
              " 'b1': array([ 0.3190391 , -0.24937038]),\n",
              " 'b2': array([ 1.13376944, -1.09989127]),\n",
              " 'b3': array([-1.10061918,  1.14472371])}"
            ]
          },
          "metadata": {
            "tags": []
          },
          "execution_count": 147
        }
      ]
    },
    {
      "cell_type": "code",
      "metadata": {
        "id": "kYwEMw-HOUXD"
      },
      "source": [
        "def softmax(Z):\n",
        "\n",
        "  activated_output = np.exp(Z)/np.sum(np.exp(Z))\n",
        "  return activated_output"
      ],
      "execution_count": 100,
      "outputs": []
    },
    {
      "cell_type": "code",
      "metadata": {
        "id": "VMAR5kX5_ys9"
      },
      "source": [
        "def forward_propagation(parameters, batch):\n",
        "\n",
        "  A = batch\n",
        "\n",
        "  activations = dict()\n",
        "  layer_outputs = dict()\n",
        "\n",
        "  activations[\"A\" + str(0)] = batch\n",
        "\n",
        "  for i in range(1, len(layer_dims)):\n",
        "   \n",
        "    Z = np.dot(parameters[\"W\"+str(i)], A) + parameters[\"b\" + str(i)]\n",
        "    if (i < 3):\n",
        "      A = parameters[\"K\"][0].item() + parameters[\"K\"][1].item()*Z + parameters[\"K\"][2].item()*(np.multiply(Z,Z))\n",
        "    else:\n",
        "      A = softmax(Z)\n",
        "    activations[\"A\" + str(i)] = A\n",
        "    layer_outputs[\"Z\"+ str(i)] = Z\n",
        "\n",
        "\n",
        "  return activations, layer_outputs"
      ],
      "execution_count": 124,
      "outputs": []
    },
    {
      "cell_type": "code",
      "metadata": {
        "id": "0P_vC_ZBIVi7"
      },
      "source": [
        "activations, layer_outputs = forward_propagation(parameters, np.array([0,1,2,3]))"
      ],
      "execution_count": 125,
      "outputs": []
    },
    {
      "cell_type": "code",
      "metadata": {
        "colab": {
          "base_uri": "https://localhost:8080/"
        },
        "id": "Wuix-68mrddk",
        "outputId": "4a8c41bf-1100-4d45-c1c1-b4b5506d5e59"
      },
      "source": [
        "activations"
      ],
      "execution_count": 130,
      "outputs": [
        {
          "output_type": "execute_result",
          "data": {
            "text/plain": [
              "{'A0': array([0, 1, 2, 3]),\n",
              " 'A1': array([17.40376153,  1.85522669]),\n",
              " 'A2': array([478.91123276,  46.81821594]),\n",
              " 'A3': array([4.8092818e-76, 1.0000000e+00])}"
            ]
          },
          "metadata": {
            "tags": []
          },
          "execution_count": 130
        }
      ]
    },
    {
      "cell_type": "code",
      "metadata": {
        "colab": {
          "base_uri": "https://localhost:8080/"
        },
        "id": "mLDvpVr7r9WP",
        "outputId": "4df25137-4d0f-4def-c885-f36d9072186c"
      },
      "source": [
        "layer_outputs"
      ],
      "execution_count": 131,
      "outputs": [
        {
          "output_type": "execute_result",
          "data": {
            "text/plain": [
              "{'Z1': array([-4.56796669, -1.34490625]),\n",
              " 'Z2': array([22.75791927, -7.42367129]),\n",
              " 'Z3': array([-124.77818959,   48.64772972])}"
            ]
          },
          "metadata": {
            "tags": []
          },
          "execution_count": 131
        }
      ]
    },
    {
      "cell_type": "code",
      "metadata": {
        "id": "782UD8_GXUE1"
      },
      "source": [
        "def cross_entropy(predictions, actual):\n",
        "  loss = -np.mean(np.log(predictions)*actual)\n",
        "  return loss"
      ],
      "execution_count": 103,
      "outputs": []
    },
    {
      "cell_type": "code",
      "metadata": {
        "id": "qfhwymmVLhGX"
      },
      "source": [
        "def compute_cost(predictions, actual):\n",
        "  loss = cross_entropy(preecitions, actual)\n",
        "  return loss"
      ],
      "execution_count": 104,
      "outputs": []
    },
    {
      "cell_type": "code",
      "metadata": {
        "id": "1e8RN4uLX-mM"
      },
      "source": [
        "def backward_propagation(parameters, activations, layer_outputs, batch_size, Y):\n",
        "\n",
        "  gradients = dict()\n",
        "  gradients[\"dK\"] = 0\n",
        "  \n",
        "\n",
        "  for i in reversed(range(1, len(layer_dims))):\n",
        "    print(i)\n",
        "    if (i==len(layer_dims)-1):\n",
        "      gradients[\"dZ\" + str(i)] =  activations[\"A\" + str(i)] - Y\n",
        "      gradients[\"dW\" + str(i)] = np.dot(activations[\"A\" + str(i-1)].T, gradients[\"dZ\" + str(i)])\n",
        "      print(gradients[\"dZ\" + str(i)])\n",
        "      gradients[\"db\" + str(i)] = np.mean(gradients[\"dZ\" + str(i)], axis=0)\n",
        "\n",
        "      \n",
        "    if (0 <i < len(layer_dims)-1 ):\n",
        "      gradients[\"dA\" + str(i)] = np.dot(gradients[\"dZ\" + str(i+1)], parameters[\"W\" + str(i+1)])\n",
        "      gradients[\"dZ\" + str(i)] = parameters[\"K\"][1].item() + 2*parameters[\"K\"][2].item()*layer_outputs[\"Z\" + str(i)] * activations[\"A\" + str(i)]\n",
        "      gradients[\"dW\" + str(i)] = np.dot(np.expand_dims(activations[\"A\" + str(i-1)], axis=-1), np.expand_dims(gradients[\"dZ\" + str(i)], axis=-1).T)/batch_size\n",
        "      gradients[\"db\" + str(i)] = np.mean(gradients[\"dZ\" + str(i)], axis=0)\n",
        "      gradients[\"dK\" + str(i)] = np.array([np.mean(gradients[\"dA\" +  str(i)]), \n",
        "                                           np.mean(np.multiply(gradients[\"dA\" +  str(i)],layer_outputs[\"Z\"+str(i)])), \n",
        "                                           np.mean(np.multiply(gradients[\"dA\" + str(i)], layer_outputs[\"Z\"+str(i)]*layer_outputs[\"Z\"+str(i)]))])\n",
        "      \n",
        "  for j in range(1, len(layer_dims)-1):\n",
        "    gradients[\"dK\"] = gradients[\"dK\"] + gradients[\"dK\" + str(i)]     \n",
        "\n",
        "  return gradients\n"
      ],
      "execution_count": 136,
      "outputs": []
    },
    {
      "cell_type": "code",
      "metadata": {
        "colab": {
          "base_uri": "https://localhost:8080/"
        },
        "id": "gW77k4yQbmL0",
        "outputId": "8928dc31-94a1-4191-eefb-d850c219a315"
      },
      "source": [
        "gradients = backward_propagation(parameters, activations, layer_outputs, 1, [0])\n",
        "gradients"
      ],
      "execution_count": 139,
      "outputs": [
        {
          "output_type": "stream",
          "text": [
            "3\n",
            "[4.8092818e-76 1.0000000e+00]\n",
            "2\n",
            "1\n"
          ],
          "name": "stdout"
        },
        {
          "output_type": "execute_result",
          "data": {
            "text/plain": [
              "{'dA1': array([ 28913.74003702, -40215.50665761]),\n",
              " 'dA2': array([0.04221375, 0.58281521]),\n",
              " 'dK': array([-11301.76662058, -77990.91521723, 530582.62734159]),\n",
              " 'dK1': array([ -5650.88331029, -38995.45760861, 265291.3136708 ]),\n",
              " 'dK2': array([ 0.31251448, -1.68296576, 26.99146699]),\n",
              " 'dW1': array([[   0.        ,    0.        ],\n",
              "        [-142.73324653,   -3.99296777],\n",
              "        [-285.46649307,   -7.98593555],\n",
              "        [-428.1997396 ,  -11.97890332]]),\n",
              " 'dW2': array([[341764.66551987, -10889.63766955],\n",
              "        [ 36431.83281963,  -1160.82643722]]),\n",
              " 'dW3': 46.81821593828207,\n",
              " 'dZ1': array([-142.73324653,   -3.99296777]),\n",
              " 'dZ2': array([19637.40223062,  -625.70598028]),\n",
              " 'dZ3': array([4.8092818e-76, 1.0000000e+00]),\n",
              " 'db1': -73.36310715460812,\n",
              " 'db2': 9505.848125170538,\n",
              " 'db3': 0.5}"
            ]
          },
          "metadata": {
            "tags": []
          },
          "execution_count": 139
        }
      ]
    },
    {
      "cell_type": "code",
      "metadata": {
        "id": "c_32p6blb1XL"
      },
      "source": [
        "def update_parameters(parameters, gradients, learning_rate):\n",
        "\n",
        "  for i in range(1, len(layer_dims)):\n",
        "    parameters[\"W\" + str(i)] = parameters[\"W\" + str(i)] - learning_rate * gradients[\"dW\" + str(i)].T\n",
        "    parameters[\"b\" + str(i)] = parameters[\"b\" + str(i)] - learning_rate * gradients[\"db\" + str(i)]\n",
        "\n",
        "  parameters[\"K\"] = parameters[\"K\"] - learning_rate * gradients[\"dK\"] \n",
        "\n",
        "  return parameters "
      ],
      "execution_count": 144,
      "outputs": []
    },
    {
      "cell_type": "code",
      "metadata": {
        "colab": {
          "base_uri": "https://localhost:8080/"
        },
        "id": "963Xu3Tqyfl0",
        "outputId": "194a3b15-62e9-40e5-89e3-e8779cc4c332"
      },
      "source": [
        "updated_parameters = update_parameters(parameters, gradients, 0.001)\n",
        "updated_parameters"
      ],
      "execution_count": 146,
      "outputs": [
        {
          "output_type": "execute_result",
          "data": {
            "text/plain": [
              "{'K': array([[   23.50512396,   156.88342116, -1060.26366396],\n",
              "        [   23.10602758,   156.48432477, -1060.66276034],\n",
              "        [   23.50438919,   156.88268638, -1060.26439873]]),\n",
              " 'W1': array([[ 1.62434536, -0.18355667,  0.32822773,  0.2116306 ],\n",
              "        [ 0.86540763, -2.28955979,  1.76876957, -0.72527019]]),\n",
              " 'W2': array([[-682.0672231 ,  -74.92380635],\n",
              "        [  21.45685814,    1.93759852]]),\n",
              " 'W3': array([[-0.26606464, -0.97149485],\n",
              "        [-0.05142269,  0.48917878]]),\n",
              " 'b1': array([ 0.46576531, -0.10264416]),\n",
              " 'b2': array([-17.87792681, -20.11158752]),\n",
              " 'b3': array([-1.10161918,  1.14372371])}"
            ]
          },
          "metadata": {
            "tags": []
          },
          "execution_count": 146
        }
      ]
    },
    {
      "cell_type": "code",
      "metadata": {
        "id": "f0TK6sbXy8fX"
      },
      "source": [
        ""
      ],
      "execution_count": null,
      "outputs": []
    }
  ]
}